{
 "cells": [
  {
   "cell_type": "code",
   "execution_count": 45,
   "id": "79a30807",
   "metadata": {},
   "outputs": [],
   "source": [
    "import sqlite3"
   ]
  },
  {
   "cell_type": "code",
   "execution_count": 46,
   "id": "f42a7ba3",
   "metadata": {},
   "outputs": [
    {
     "data": {
      "text/plain": [
       "<sqlite3.Connection at 0x1e6726f2020>"
      ]
     },
     "execution_count": 46,
     "metadata": {},
     "output_type": "execute_result"
    }
   ],
   "source": [
    "connection = sqlite3.connect('example.db')\n",
    "connection"
   ]
  },
  {
   "cell_type": "code",
   "execution_count": 47,
   "id": "a2fea7ba",
   "metadata": {},
   "outputs": [],
   "source": [
    "cursor = connection.cursor()"
   ]
  },
  {
   "cell_type": "code",
   "execution_count": 48,
   "id": "4c136eaa",
   "metadata": {},
   "outputs": [],
   "source": [
    "#Create a Table\n",
    "\n",
    "cursor.execute('''\n",
    "Create Table If Not Exists employee(\n",
    "        id Interger Primary Key,\n",
    "        name Text not null,\n",
    "        age Integer,\n",
    "        department text\n",
    "    )\n",
    "''' )\n",
    "\n",
    "\n",
    "##\n",
    "connection.commit()"
   ]
  },
  {
   "cell_type": "code",
   "execution_count": 49,
   "id": "dac36816",
   "metadata": {},
   "outputs": [
    {
     "data": {
      "text/plain": [
       "<sqlite3.Cursor at 0x1e67267b640>"
      ]
     },
     "execution_count": 49,
     "metadata": {},
     "output_type": "execute_result"
    }
   ],
   "source": [
    "cursor.execute('Select * from employee')"
   ]
  },
  {
   "cell_type": "code",
   "execution_count": 50,
   "id": "3f78e05f",
   "metadata": {},
   "outputs": [],
   "source": [
    "#Insertion\n",
    "cursor.execute(''' \n",
    "    insert into employee(name, age, department) values('Darshan', 20, 'CSE')\n",
    "''')\n",
    "connection.commit()"
   ]
  },
  {
   "cell_type": "code",
   "execution_count": 51,
   "id": "39d80e98",
   "metadata": {},
   "outputs": [
    {
     "name": "stdout",
     "output_type": "stream",
     "text": [
      "(None, 'Darshan', 20, None)\n",
      "(None, 'Ankit', 23, None)\n",
      "(None, 'Harshal', 20, None)\n",
      "(None, 'Darshan', 20, 'CSE')\n"
     ]
    }
   ],
   "source": [
    "cursor.execute('Select * from employee')\n",
    "rows = cursor.fetchall()\n",
    "\n",
    "for i in rows:\n",
    "    print(i)"
   ]
  },
  {
   "cell_type": "code",
   "execution_count": 52,
   "id": "3d7d7e6f",
   "metadata": {},
   "outputs": [],
   "source": [
    "cursor.execute('update employee set age=30 where name=\"Darshan\"')\n",
    "connection.commit()"
   ]
  },
  {
   "cell_type": "code",
   "execution_count": 53,
   "id": "e22af05d",
   "metadata": {},
   "outputs": [],
   "source": [
    "def see():\n",
    "    cursor.execute('Select * from employee')\n",
    "    rows = cursor.fetchall()\n",
    "\n",
    "    for i in rows:\n",
    "        print(i)"
   ]
  },
  {
   "cell_type": "code",
   "execution_count": 54,
   "id": "511e4d8b",
   "metadata": {},
   "outputs": [],
   "source": [
    "# cursor.execute('delete from employee where name=\"Darshan\"')\n",
    "# connection.commit()\n",
    "def dele():\n",
    "    cursor.execute('delete from employee where 1=1')\n",
    "    connection.commit()"
   ]
  },
  {
   "cell_type": "code",
   "execution_count": 55,
   "id": "2932de63",
   "metadata": {},
   "outputs": [
    {
     "name": "stdout",
     "output_type": "stream",
     "text": [
      "(None, 'Darshan', 30, None)\n",
      "(None, 'Ankit', 23, None)\n",
      "(None, 'Harshal', 20, None)\n",
      "(None, 'Darshan', 30, 'CSE')\n"
     ]
    }
   ],
   "source": [
    "cursor.execute('Select * from employee')\n",
    "rows = cursor.fetchall()\n",
    "\n",
    "for i in rows:\n",
    "    print(i)"
   ]
  },
  {
   "cell_type": "code",
   "execution_count": 56,
   "id": "5c768b53",
   "metadata": {},
   "outputs": [],
   "source": [
    "data = [\n",
    "    ['Darshan', 20],\n",
    "    ['Ankit',  23],\n",
    "    ('Harshal', 20),\n",
    "\n",
    "\n",
    "]\n",
    "dele()\n",
    "cursor.executemany('insert into employee(name, age) values(?, ?)', data)\n",
    "connection.commit()"
   ]
  },
  {
   "cell_type": "code",
   "execution_count": 57,
   "id": "c9eb07ad",
   "metadata": {},
   "outputs": [
    {
     "name": "stdout",
     "output_type": "stream",
     "text": [
      "(None, 'Darshan', 20, None)\n",
      "(None, 'Ankit', 23, None)\n",
      "(None, 'Harshal', 20, None)\n"
     ]
    }
   ],
   "source": [
    "see()"
   ]
  },
  {
   "cell_type": "code",
   "execution_count": 58,
   "id": "939966d1",
   "metadata": {},
   "outputs": [],
   "source": [
    "connection.close()"
   ]
  }
 ],
 "metadata": {
  "kernelspec": {
   "display_name": "Python 3",
   "language": "python",
   "name": "python3"
  },
  "language_info": {
   "codemirror_mode": {
    "name": "ipython",
    "version": 3
   },
   "file_extension": ".py",
   "mimetype": "text/x-python",
   "name": "python",
   "nbconvert_exporter": "python",
   "pygments_lexer": "ipython3",
   "version": "3.13.3"
  }
 },
 "nbformat": 4,
 "nbformat_minor": 5
}
