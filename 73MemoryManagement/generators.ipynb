{
 "cells": [
  {
   "cell_type": "code",
   "execution_count": 1,
   "id": "980f8670",
   "metadata": {},
   "outputs": [],
   "source": [
    "def my_generator():\n",
    "    yield 1\n",
    "    yield 2\n",
    "    yield 3\n"
   ]
  },
  {
   "cell_type": "code",
   "execution_count": 3,
   "id": "0b8ce08d",
   "metadata": {},
   "outputs": [],
   "source": [
    "gen = my_generator()\n"
   ]
  },
  {
   "cell_type": "code",
   "execution_count": 10,
   "id": "9afb7081",
   "metadata": {},
   "outputs": [
    {
     "name": "stdout",
     "output_type": "stream",
     "text": [
      "1\n",
      "2\n",
      "3\n"
     ]
    }
   ],
   "source": [
    "gen = my_generator()\n",
    "print(next(gen))  # 1\n",
    "print(next(gen))  # 2\n",
    "print(next(gen))  # 3\n"
   ]
  },
  {
   "cell_type": "markdown",
   "id": "6bdbf53b",
   "metadata": {},
   "source": [
    "# 🔁 Why Use Generators?\n",
    "\n",
    "* Saves memory (doesn’t store all values at once)\n",
    "* Great for big data / streaming\n",
    "* Works perfectly in loops"
   ]
  },
  {
   "cell_type": "markdown",
   "id": "3ba5f2db",
   "metadata": {},
   "source": [
    "## ✅ Generator in a for loop:"
   ]
  },
  {
   "cell_type": "code",
   "execution_count": 11,
   "id": "41ce6c8c",
   "metadata": {},
   "outputs": [],
   "source": [
    "def fun(n):\n",
    "    for i in range(n):\n",
    "        yield i"
   ]
  },
  {
   "cell_type": "code",
   "execution_count": 12,
   "id": "0b4068df",
   "metadata": {},
   "outputs": [
    {
     "name": "stdout",
     "output_type": "stream",
     "text": [
      "0\n",
      "1\n",
      "2\n",
      "3\n",
      "4\n"
     ]
    }
   ],
   "source": [
    "for i in fun(5):\n",
    "    print(i)"
   ]
  },
  {
   "cell_type": "code",
   "execution_count": 13,
   "id": "f7e467ad",
   "metadata": {},
   "outputs": [
    {
     "name": "stdout",
     "output_type": "stream",
     "text": [
      "🍫\n",
      "🍪\n",
      "🍩\n"
     ]
    }
   ],
   "source": [
    "def vending_machine():\n",
    "    yield \"🍫\"\n",
    "    yield \"🍪\"\n",
    "    yield \"🍩\"\n",
    "\n",
    "for snack in vending_machine():\n",
    "    print(snack)\n"
   ]
  },
  {
   "cell_type": "code",
   "execution_count": null,
   "id": "31d43a4b",
   "metadata": {},
   "outputs": [],
   "source": []
  },
  {
   "cell_type": "markdown",
   "id": "4a6b1adf",
   "metadata": {},
   "source": [
    "\n",
    "# 🐍 Python Generators - Flashcards\n",
    "\n",
    "---\n",
    "\n",
    "## 🟦 FLASHCARD 1: What is a Generator?\n",
    "\n",
    "**Q:** What is a Python generator?  \n",
    "**A:** A function that uses `yield` to return one value at a time, and remembers where it left off.\n",
    "\n",
    "---\n",
    "\n",
    "## 🟦 FLASHCARD 2: Generator Syntax\n",
    "\n",
    "**Q:** What is the basic syntax of a generator?  \n",
    "**A:**\n",
    "```python\n",
    "def my_gen():\n",
    "    yield value\n",
    "```\n",
    "\n",
    "---\n",
    "\n",
    "## 🟦 FLASHCARD 3: Using a Generator\n",
    "\n",
    "**Q:** How do you use a generator?\n",
    "\n",
    "```python\n",
    "gen = my_gen()\n",
    "next(gen)\n",
    "```\n",
    "\n",
    "**OR**\n",
    "\n",
    "```python\n",
    "for value in my_gen():\n",
    "    print(value)\n",
    "```\n",
    "\n",
    "---\n",
    "\n",
    "## 🟦 FLASHCARD 4: `yield` vs `return`\n",
    "\n",
    "**Q:** What is the difference between `yield` and `return`?  \n",
    "**A:**\n",
    "- ❌ `return` gives one value and ends the function.\n",
    "- ⏸️ `yield` gives one value and **pauses** the function.\n",
    "\n",
    "---\n",
    "\n",
    "## 🟦 FLASHCARD 5: Why Use Generators?\n",
    "\n",
    "**Q:** Why should you use generators?  \n",
    "**A:**\n",
    "- 🧠 Save memory  \n",
    "- 🌊 Handle large data streams  \n",
    "- ⏩ Process items one at a time\n",
    "\n",
    "---\n",
    "\n",
    "## 🟦 FLASHCARD 6: Easy Example\n",
    "\n",
    "**Q:** What does this code print?\n",
    "\n",
    "```python\n",
    "def snack_box():\n",
    "    yield \"🍫\"\n",
    "    yield \"🍪\"\n",
    "    yield \"🍩\"\n",
    "\n",
    "for snack in snack_box():\n",
    "    print(snack)\n",
    "```\n",
    "\n",
    "**A:**\n",
    "```\n",
    "🍫\n",
    "🍪\n",
    "🍩\n",
    "```\n",
    "\n",
    "---\n",
    "\n",
    "## 🟦 FLASHCARD 7: Remember This Trick\n",
    "\n",
    "**Q:** What is an easy way to remember what generators do?  \n",
    "**A:**  \n",
    "> 🧠 Generators = Vending machines that give one snack at a time using `yield`\n"
   ]
  }
 ],
 "metadata": {
  "kernelspec": {
   "display_name": "Python 3",
   "language": "python",
   "name": "python3"
  },
  "language_info": {
   "codemirror_mode": {
    "name": "ipython",
    "version": 3
   },
   "file_extension": ".py",
   "mimetype": "text/x-python",
   "name": "python",
   "nbconvert_exporter": "python",
   "pygments_lexer": "ipython3",
   "version": "3.13.3"
  }
 },
 "nbformat": 4,
 "nbformat_minor": 5
}
