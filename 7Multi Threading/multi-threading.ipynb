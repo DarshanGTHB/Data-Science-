{
 "cells": [
  {
   "cell_type": "code",
   "execution_count": 1,
   "id": "e162e908",
   "metadata": {},
   "outputs": [],
   "source": [
    "import threading\n",
    "import time"
   ]
  },
  {
   "cell_type": "code",
   "execution_count": null,
   "id": "e02cf859",
   "metadata": {},
   "outputs": [
    {
     "name": "stdout",
     "output_type": "stream",
     "text": [
      "1\n",
      "2\n",
      "3\n",
      "4\n",
      "a\n",
      "b\n",
      "c\n",
      "d\n",
      "8.00956416130066\n"
     ]
    }
   ],
   "source": [
    "def fun1():\n",
    "    for i in '1234':\n",
    "        time.sleep(0.75)\n",
    "        print(i)\n",
    "    \n",
    "def fun2():\n",
    "    for i in 'abcd':\n",
    "        time.sleep(1.25)\n",
    "        print(i)\n",
    "\n",
    "t1=time.time()\n",
    "fun1()\n",
    "fun2()\n",
    "t2=time.time()\n",
    "\n",
    "print(t2-t1)"
   ]
  },
  {
   "cell_type": "code",
   "execution_count": 7,
   "id": "befc7c0e",
   "metadata": {},
   "outputs": [
    {
     "name": "stdout",
     "output_type": "stream",
     "text": [
      "1\n",
      "a\n",
      "2\n",
      "3\n",
      "b\n",
      "4\n",
      "c\n",
      "d\n",
      "5.014906644821167\n"
     ]
    }
   ],
   "source": [
    "def fun1():\n",
    "    for i in '1234':\n",
    "        time.sleep(0.75)\n",
    "        print(i)\n",
    "    \n",
    "def fun2():\n",
    "    for i in 'abcd':\n",
    "        time.sleep(1.25)\n",
    "        print(i)\n",
    "\n",
    "\n",
    "\n",
    "th1 = threading.Thread(target=fun1)\n",
    "th2 = threading.Thread(target=fun2)\n",
    "\n",
    "\n",
    "t1=time.time()\n",
    "th1.start()\n",
    "th2.start()\n",
    "th1.join()\n",
    "th2.join()\n",
    "t2=time.time()\n",
    "\n",
    "print(t2-t1)\n"
   ]
  },
  {
   "cell_type": "code",
   "execution_count": 15,
   "id": "3f729ec9",
   "metadata": {},
   "outputs": [
    {
     "name": "stdout",
     "output_type": "stream",
     "text": [
      "1234\n",
      "{1}1\n",
      "\n",
      "2\n",
      "{2}3\n",
      "\n",
      "{3}\n",
      "{4}\n",
      "8.027167081832886\n"
     ]
    }
   ],
   "source": [
    "#Function with arge\n",
    "\n",
    "def fun(delay, iterableItem):\n",
    "    for i in iterableItem:\n",
    "        time.sleep(delay)\n",
    "        print(i)\n",
    "\n",
    "th1 = threading.Thread(target=fun, args=(1, ['1234'] + [1,2,3]))\n",
    "th2 = threading.Thread(target=fun, args=(2, [{1}, {2}, {3}, {4}]))\n",
    "\n",
    "\n",
    "t1=time.time()\n",
    "th1.start()\n",
    "th2.start()\n",
    "th1.join()\n",
    "th2.join()\n",
    "t2=time.time()\n",
    "\n",
    "print(t2-t1)"
   ]
  },
  {
   "cell_type": "code",
   "execution_count": null,
   "id": "1ec6f5d3",
   "metadata": {},
   "outputs": [],
   "source": []
  }
 ],
 "metadata": {
  "kernelspec": {
   "display_name": "Python 3",
   "language": "python",
   "name": "python3"
  },
  "language_info": {
   "codemirror_mode": {
    "name": "ipython",
    "version": 3
   },
   "file_extension": ".py",
   "mimetype": "text/x-python",
   "name": "python",
   "nbconvert_exporter": "python",
   "pygments_lexer": "ipython3",
   "version": "3.13.3"
  }
 },
 "nbformat": 4,
 "nbformat_minor": 5
}
