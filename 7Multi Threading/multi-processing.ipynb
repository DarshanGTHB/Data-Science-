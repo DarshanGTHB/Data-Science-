{
 "cells": [
  {
   "cell_type": "code",
   "execution_count": 2,
   "id": "8b480dfd",
   "metadata": {},
   "outputs": [],
   "source": [
    "import multiprocessing\n",
    "import time"
   ]
  },
  {
   "cell_type": "code",
   "execution_count": 7,
   "id": "48cbeec5",
   "metadata": {},
   "outputs": [
    {
     "name": "stdout",
     "output_type": "stream",
     "text": [
      "0.2584378719329834\n"
     ]
    }
   ],
   "source": [
    "import multiprocessing\n",
    "import time  # ✅ Add this!\n",
    "\n",
    "def fun1():\n",
    "    for i in '1234':\n",
    "        time.sleep(0.75)\n",
    "        print(i)\n",
    "    \n",
    "def fun2():\n",
    "    for i in 'abcd':\n",
    "        time.sleep(1.25)\n",
    "        print(i)\n",
    "\n",
    "if __name__=='__main__':\n",
    "    pro1 = multiprocessing.Process(target=fun1)\n",
    "    pro2 = multiprocessing.Process(target=fun2)\n",
    "\n",
    "    t1 = time.time()\n",
    "    pro1.start()\n",
    "    pro2.start()\n",
    "\n",
    "    pro1.join()\n",
    "    pro2.join()\n",
    "\n",
    "    t2 = time.time()\n",
    "\n",
    "    print(t2 - t1)\n"
   ]
  },
  {
   "cell_type": "code",
   "execution_count": null,
   "id": "6c06e1dd",
   "metadata": {},
   "outputs": [],
   "source": []
  }
 ],
 "metadata": {
  "kernelspec": {
   "display_name": "Python 3",
   "language": "python",
   "name": "python3"
  },
  "language_info": {
   "codemirror_mode": {
    "name": "ipython",
    "version": 3
   },
   "file_extension": ".py",
   "mimetype": "text/x-python",
   "name": "python",
   "nbconvert_exporter": "python",
   "pygments_lexer": "ipython3",
   "version": "3.13.3"
  }
 },
 "nbformat": 4,
 "nbformat_minor": 5
}
