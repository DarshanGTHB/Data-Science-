{
 "cells": [
  {
   "cell_type": "code",
   "execution_count": 1,
   "id": "bc34fa93",
   "metadata": {},
   "outputs": [],
   "source": [
    "import logging"
   ]
  },
  {
   "cell_type": "code",
   "execution_count": null,
   "id": "300cab9c",
   "metadata": {},
   "outputs": [],
   "source": [
    "# //have to restart the kernal if we want to change the config cuz, once config set up, we cant change it without restarting the kernal\n"
   ]
  },
  {
   "cell_type": "code",
   "execution_count": null,
   "id": "a5b2dd67",
   "metadata": {},
   "outputs": [],
   "source": [
    "import logging\n",
    "\n",
    "# Remove all existing handlers\n",
    "# for handler in logging.root.handlers[:]:\n",
    "#     logging.root.removeHandler(handler)\n",
    "\n",
    "logging.basicConfig(\n",
    "    filename='app.log',\n",
    "    filemode='w',\n",
    "    level=logging.DEBUG,\n",
    "    format='%(asctime)s-%(name)s-%(levelname)s-%(message)s',\n",
    "    datefmt='%Y-%m-%d %H:%M:%S:'\n",
    ")\n",
    "\n",
    "\n",
    "logging.debug('this is a logging msg')\n",
    "logging.info('info')\n",
    "logging.warning('Warning')\n",
    "logging.error('Error')\n",
    "logging.critical('Critical')\n"
   ]
  },
  {
   "cell_type": "code",
   "execution_count": null,
   "id": "7ed11327",
   "metadata": {},
   "outputs": [],
   "source": []
  },
  {
   "cell_type": "code",
   "execution_count": null,
   "id": "4db50415",
   "metadata": {},
   "outputs": [],
   "source": []
  }
 ],
 "metadata": {
  "kernelspec": {
   "display_name": "Python 3",
   "language": "python",
   "name": "python3"
  },
  "language_info": {
   "codemirror_mode": {
    "name": "ipython",
    "version": 3
   },
   "file_extension": ".py",
   "mimetype": "text/x-python",
   "name": "python",
   "nbconvert_exporter": "python",
   "pygments_lexer": "ipython3",
   "version": "3.13.3"
  }
 },
 "nbformat": 4,
 "nbformat_minor": 5
}
