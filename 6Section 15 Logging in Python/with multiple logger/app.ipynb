{
 "cells": [
  {
   "cell_type": "markdown",
   "id": "b4b1b9b3",
   "metadata": {},
   "source": [
    "# 📝 Understanding Python Logging Levels with Examples\n",
    "\n",
    "Python's `logging` module provides a flexible framework for emitting log messages from Python programs. Logs are incredibly useful for debugging and monitoring your application during development and production.\n",
    "\n",
    "---\n",
    "\n",
    "## 📊 Log Level Hierarchy\n",
    "\n",
    "Each log level has a numeric value. A logger will handle only the messages at its level and above.\n",
    "\n",
    "| Log Level  | Numeric Value | Description                          |\n",
    "|------------|----------------|--------------------------------------|\n",
    "| `CRITICAL` | 50             | Very serious errors                  |\n",
    "| `ERROR`    | 40             | Errors that prevent some functionality |\n",
    "| `WARNING`  | 30             | Unexpected behavior that is recoverable |\n",
    "| `INFO`     | 20             | General events during execution      |\n",
    "| `DEBUG`    | 10             | Detailed information for debugging   |\n",
    "| `NOTSET`   | 0              | Special level to inherit parent level |\n",
    "\n",
    "---\n",
    "\n",
    "## ⚙️ Code Example: Different Logger Levels\n",
    "\n",
    "```python\n",
    "import logging\n",
    "\n",
    "# Configure global logging\n",
    "logging.basicConfig(\n",
    "    level=logging.DEBUG,\n",
    "    format='%(asctime)s-%(name)s-%(levelname)s-%(message)s',\n",
    "    datefmt='%Y-%m-%d %H:%M:%S:'\n",
    ")\n",
    "\n",
    "# Logger 1: Only handles WARNING and above\n",
    "logger1 = logging.getLogger('mod1')\n",
    "logger1.setLevel(logging.WARNING)\n",
    "\n",
    "# Logger 2: Handles DEBUG and above\n",
    "logger2 = logging.getLogger('mod2')\n",
    "logger2.setLevel(logging.DEBUG)\n",
    "\n",
    "# Logging messages\n",
    "logger2.debug('Debug using logging.WARNING logger')  # Will appear\n",
    "logger1.debug('Debug using logging.DEBUG logger')    # Will not appear\n"
   ]
  },
  {
   "cell_type": "code",
   "execution_count": 1,
   "id": "fe5f30cf",
   "metadata": {},
   "outputs": [],
   "source": [
    "import logging\n",
    "\n",
    "logging.basicConfig(\n",
    "    level=logging.DEBUG,\n",
    "    format='%(asctime)s-%(name)s-%(levelname)s-%(message)s',\n",
    "    datefmt='%Y-%m-%d %H:%M:%S:'\n",
    ")\n",
    "\n",
    "\n",
    "logger1 = logging.getLogger('mod1')\n",
    "logger1.setLevel(logging.WARNING)\n",
    "\n",
    "logger2 = logging.getLogger('mod2')\n",
    "logger2.setLevel(logging.DEBUG)\n",
    "\n",
    "\n",
    "\n"
   ]
  },
  {
   "cell_type": "code",
   "execution_count": 2,
   "id": "12408d23",
   "metadata": {},
   "outputs": [
    {
     "name": "stderr",
     "output_type": "stream",
     "text": [
      "2025-05-23 16:34:45:-mod2-DEBUG-Debug using logging.WARNING logger\n"
     ]
    }
   ],
   "source": [
    "logger2.debug('Debug using logging.WARNING logger')\n",
    "logger1.debug('Debug using logging.DEBUG logger\\n')"
   ]
  }
 ],
 "metadata": {
  "kernelspec": {
   "display_name": "Python 3",
   "language": "python",
   "name": "python3"
  },
  "language_info": {
   "codemirror_mode": {
    "name": "ipython",
    "version": 3
   },
   "file_extension": ".py",
   "mimetype": "text/x-python",
   "name": "python",
   "nbconvert_exporter": "python",
   "pygments_lexer": "ipython3",
   "version": "3.13.3"
  }
 },
 "nbformat": 4,
 "nbformat_minor": 5
}
