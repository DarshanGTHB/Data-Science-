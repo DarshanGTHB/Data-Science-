{
 "cells": [
  {
   "cell_type": "code",
   "execution_count": 18,
   "id": "cbcac266",
   "metadata": {},
   "outputs": [
    {
     "name": "stdout",
     "output_type": "stream",
     "text": [
      "{\"col1\": [1, 2, 3], \"col2\": [4, 5, 6]}\n",
      "StringIO(data) :  <_io.StringIO object at 0x00000250E6A41180>\n"
     ]
    },
    {
     "data": {
      "text/html": [
       "<div>\n",
       "<style scoped>\n",
       "    .dataframe tbody tr th:only-of-type {\n",
       "        vertical-align: middle;\n",
       "    }\n",
       "\n",
       "    .dataframe tbody tr th {\n",
       "        vertical-align: top;\n",
       "    }\n",
       "\n",
       "    .dataframe thead th {\n",
       "        text-align: right;\n",
       "    }\n",
       "</style>\n",
       "<table border=\"1\" class=\"dataframe\">\n",
       "  <thead>\n",
       "    <tr style=\"text-align: right;\">\n",
       "      <th></th>\n",
       "      <th>col1</th>\n",
       "      <th>col2</th>\n",
       "    </tr>\n",
       "  </thead>\n",
       "  <tbody>\n",
       "    <tr>\n",
       "      <th>0</th>\n",
       "      <td>1</td>\n",
       "      <td>4</td>\n",
       "    </tr>\n",
       "    <tr>\n",
       "      <th>1</th>\n",
       "      <td>2</td>\n",
       "      <td>5</td>\n",
       "    </tr>\n",
       "    <tr>\n",
       "      <th>2</th>\n",
       "      <td>3</td>\n",
       "      <td>6</td>\n",
       "    </tr>\n",
       "  </tbody>\n",
       "</table>\n",
       "</div>"
      ],
      "text/plain": [
       "   col1  col2\n",
       "0     1     4\n",
       "1     2     5\n",
       "2     3     6"
      ]
     },
     "execution_count": 18,
     "metadata": {},
     "output_type": "execute_result"
    }
   ],
   "source": [
    "import pandas as pd\n",
    "from io import StringIO\n",
    "\n",
    "data = '{\"col1\": [1, 2, 3], \"col2\": [4, 5, 6]}'\n",
    "print(data)\n",
    "print('StringIO(data) : ',StringIO(data))\n",
    "df = pd.read_json(StringIO(data))\n",
    "df"
   ]
  },
  {
   "cell_type": "code",
   "execution_count": 19,
   "id": "85d32c80",
   "metadata": {},
   "outputs": [
    {
     "name": "stdout",
     "output_type": "stream",
     "text": [
      "orient = records :  [{\"col1\":1,\"col2\":4},{\"col1\":2,\"col2\":5},{\"col1\":3,\"col2\":6}]\n",
      "orient = index :  {\"0\":{\"col1\":1,\"col2\":4},\"1\":{\"col1\":2,\"col2\":5},\"2\":{\"col1\":3,\"col2\":6}}\n",
      "orient = split :  {\"columns\":[\"col1\",\"col2\"],\"index\":[0,1,2],\"data\":[[1,4],[2,5],[3,6]]}\n",
      "orient = table :  {\"schema\":{\"fields\":[{\"name\":\"index\",\"type\":\"integer\"},{\"name\":\"col1\",\"type\":\"integer\"},{\"name\":\"col2\",\"type\":\"integer\"}],\"primaryKey\":[\"index\"],\"pandas_version\":\"1.4.0\"},\"data\":[{\"index\":0,\"col1\":1,\"col2\":4},{\"index\":1,\"col1\":2,\"col2\":5},{\"index\":2,\"col1\":3,\"col2\":6}]}\n",
      "orient = columns :  {\"col1\":{\"0\":1,\"1\":2,\"2\":3},\"col2\":{\"0\":4,\"1\":5,\"2\":6}}\n",
      "orient = values :  [[1,4],[2,5],[3,6]]\n"
     ]
    }
   ],
   "source": [
    "print(\"orient = records : \", df.to_json(orient='records'))\n",
    "print(\"orient = index : \", df.to_json(orient='index'))\n",
    "print(\"orient = split : \", df.to_json(orient='split'))  \n",
    "print(\"orient = table : \", df.to_json(orient='table'))\n",
    "print(\"orient = columns : \", df.to_json(orient='columns'))\n",
    "print(\"orient = values : \", df.to_json(orient='values'))\n",
    "\n"
   ]
  },
  {
   "cell_type": "code",
   "execution_count": 66,
   "id": "7813472d",
   "metadata": {},
   "outputs": [
    {
     "name": "stdout",
     "output_type": "stream",
     "text": [
      "Collecting openpyxl\n",
      "  Downloading openpyxl-3.1.5-py2.py3-none-any.whl.metadata (2.5 kB)\n",
      "Collecting et-xmlfile (from openpyxl)\n",
      "  Downloading et_xmlfile-2.0.0-py3-none-any.whl.metadata (2.7 kB)\n",
      "Downloading openpyxl-3.1.5-py2.py3-none-any.whl (250 kB)\n",
      "Downloading et_xmlfile-2.0.0-py3-none-any.whl (18 kB)\n",
      "Installing collected packages: et-xmlfile, openpyxl\n",
      "Successfully installed et-xmlfile-2.0.0 openpyxl-3.1.5\n"
     ]
    },
    {
     "name": "stderr",
     "output_type": "stream",
     "text": [
      "\n",
      "[notice] A new release of pip is available: 25.0.1 -> 25.1.1\n",
      "[notice] To update, run: python.exe -m pip install --upgrade pip\n"
     ]
    }
   ],
   "source": [
    "!pip install openpyxl"
   ]
  },
  {
   "cell_type": "code",
   "execution_count": 62,
   "id": "525393b0",
   "metadata": {},
   "outputs": [
    {
     "data": {
      "text/plain": [
       "[                        Company           Contact  Country\n",
       " 0           Alfreds Futterkiste      Maria Anders  Germany\n",
       " 1    Centro comercial Moctezuma   Francisco Chang   Mexico\n",
       " 2                  Ernst Handel     Roland Mendel  Austria\n",
       " 3                Island Trading     Helen Bennett       UK\n",
       " 4  Laughing Bacchus Winecellars   Yoshi Tannamuri   Canada\n",
       " 5  Magazzini Alimentari Riuniti  Giovanni Rovelli    Italy]"
      ]
     },
     "execution_count": 62,
     "metadata": {},
     "output_type": "execute_result"
    }
   ],
   "source": [
    "url = 'https://www.w3schools.com/html/html_tables.asp'\n",
    "\n",
    "arr = pd.read_html(url,match='zzini')\n",
    "\n",
    "arr"
   ]
  },
  {
   "cell_type": "code",
   "execution_count": null,
   "id": "f7acf00d",
   "metadata": {},
   "outputs": [],
   "source": []
  },
  {
   "cell_type": "code",
   "execution_count": 77,
   "id": "ad8a507b",
   "metadata": {},
   "outputs": [
    {
     "data": {
      "text/html": [
       "<div>\n",
       "<style scoped>\n",
       "    .dataframe tbody tr th:only-of-type {\n",
       "        vertical-align: middle;\n",
       "    }\n",
       "\n",
       "    .dataframe tbody tr th {\n",
       "        vertical-align: top;\n",
       "    }\n",
       "\n",
       "    .dataframe thead th {\n",
       "        text-align: right;\n",
       "    }\n",
       "</style>\n",
       "<table border=\"1\" class=\"dataframe\">\n",
       "  <thead>\n",
       "    <tr style=\"text-align: right;\">\n",
       "      <th></th>\n",
       "      <th>Name</th>\n",
       "      <th>Age</th>\n",
       "    </tr>\n",
       "  </thead>\n",
       "  <tbody>\n",
       "    <tr>\n",
       "      <th>0</th>\n",
       "      <td>john</td>\n",
       "      <td>300</td>\n",
       "    </tr>\n",
       "  </tbody>\n",
       "</table>\n",
       "</div>"
      ],
      "text/plain": [
       "   Name  Age\n",
       "0  john  300"
      ]
     },
     "execution_count": 77,
     "metadata": {},
     "output_type": "execute_result"
    }
   ],
   "source": [
    "pd.read_excel('can Delete.xlsx')\n"
   ]
  },
  {
   "cell_type": "code",
   "execution_count": 75,
   "id": "98227650",
   "metadata": {},
   "outputs": [
    {
     "name": "stdout",
     "output_type": "stream",
     "text": [
      "   Name  Age\n",
      "0  john  300\n"
     ]
    }
   ],
   "source": [
    "import pandas as pd\n",
    "\n",
    "url = \"https://docs.google.com/spreadsheets/d/1NGsSUp4uQTlRmp0A2e1Wz4pwQIV1AVA48n2QJRScMr0/export?format=csv\"\n",
    "df = pd.read_csv(url)\n",
    "\n",
    "print(df.head())\n"
   ]
  },
  {
   "cell_type": "code",
   "execution_count": 78,
   "id": "19619e0e",
   "metadata": {},
   "outputs": [],
   "source": [
    "df.to_pickle('dataframe.pkl')"
   ]
  },
  {
   "cell_type": "code",
   "execution_count": 79,
   "id": "54c6f098",
   "metadata": {},
   "outputs": [
    {
     "name": "stdout",
     "output_type": "stream",
     "text": [
      "   Name  Age\n",
      "0  john  300\n"
     ]
    }
   ],
   "source": [
    "load = pd.read_pickle('dataframe.pkl')\n",
    "print(load.head())"
   ]
  },
  {
   "cell_type": "code",
   "execution_count": null,
   "id": "6668ce26",
   "metadata": {},
   "outputs": [],
   "source": []
  }
 ],
 "metadata": {
  "kernelspec": {
   "display_name": "Python 3",
   "language": "python",
   "name": "python3"
  },
  "language_info": {
   "codemirror_mode": {
    "name": "ipython",
    "version": 3
   },
   "file_extension": ".py",
   "mimetype": "text/x-python",
   "name": "python",
   "nbconvert_exporter": "python",
   "pygments_lexer": "ipython3",
   "version": "3.13.3"
  }
 },
 "nbformat": 4,
 "nbformat_minor": 5
}
